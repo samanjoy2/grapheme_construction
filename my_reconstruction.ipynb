{
  "cells": [
    {
      "cell_type": "code",
      "execution_count": null,
      "id": "a735f224",
      "metadata": {
        "id": "a735f224",
        "outputId": "12966dda-ca60-445c-bc80-3099d09f3b0e"
      },
      "outputs": [
        {
          "ename": "ModuleNotFoundError",
          "evalue": "No module named 'tensorflow'",
          "output_type": "error",
          "traceback": [
            "\u001b[1;31m---------------------------------------------------------------------------\u001b[0m",
            "\u001b[1;31mModuleNotFoundError\u001b[0m                       Traceback (most recent call last)",
            "\u001b[1;32m~\\AppData\\Local\\Temp/ipykernel_10300/2298837690.py\u001b[0m in \u001b[0;36m<module>\u001b[1;34m\u001b[0m\n\u001b[0;32m      1\u001b[0m \u001b[1;32mimport\u001b[0m \u001b[0mnumpy\u001b[0m \u001b[1;32mas\u001b[0m \u001b[0mnp\u001b[0m\u001b[1;33m\u001b[0m\u001b[1;33m\u001b[0m\u001b[0m\n\u001b[0;32m      2\u001b[0m \u001b[1;32mimport\u001b[0m \u001b[0mos\u001b[0m\u001b[1;33m\u001b[0m\u001b[1;33m\u001b[0m\u001b[0m\n\u001b[1;32m----> 3\u001b[1;33m \u001b[1;32mimport\u001b[0m \u001b[0mtensorflow\u001b[0m \u001b[1;32mas\u001b[0m \u001b[0mtf\u001b[0m\u001b[1;33m\u001b[0m\u001b[1;33m\u001b[0m\u001b[0m\n\u001b[0m\u001b[0;32m      4\u001b[0m \u001b[1;32mfrom\u001b[0m \u001b[0mtensorflow\u001b[0m\u001b[1;33m.\u001b[0m\u001b[0mkeras\u001b[0m\u001b[1;33m.\u001b[0m\u001b[0moptimizers\u001b[0m \u001b[1;32mimport\u001b[0m \u001b[0mAdam\u001b[0m\u001b[1;33m\u001b[0m\u001b[1;33m\u001b[0m\u001b[0m\n\u001b[0;32m      5\u001b[0m \u001b[1;32mimport\u001b[0m \u001b[0mkeras\u001b[0m\u001b[1;33m\u001b[0m\u001b[1;33m\u001b[0m\u001b[0m\n",
            "\u001b[1;31mModuleNotFoundError\u001b[0m: No module named 'tensorflow'"
          ]
        }
      ],
      "source": [
        "import numpy as np\n",
        "import os\n",
        "import tensorflow as tf\n",
        "from tensorflow.keras.optimizers import Adam\n",
        "import keras\n",
        "from keras.layers import Dense, Dropout, Flatten, Input\n",
        "from keras.layers import *\n",
        "from keras.models import Sequential, Model, load_model\n",
        "from tensorflow.keras import mixed_precision\n",
        "import keras.backend as K\n",
        "import pandas as pd\n",
        "from tensorflow.keras import mixed_precision\n",
        "import matplotlib.pyplot as plt\n",
        "import splitfolders\n",
        "import zipfile\n",
        "from keras.callbacks import ModelCheckpoint, EarlyStopping, CSVLogger, LearningRateScheduler\n",
        "import shutil\n",
        "import sys\n",
        "from sklearn.metrics import classification_report, accuracy_score\n",
        "from sklearn.model_selection import train_test_split\n",
        "import locale\n",
        "locale.setlocale(locale.LC_ALL, 'bn_BD.UTF-8')\n",
        "from keras.preprocessing.image import ImageDataGenerator\n"
      ]
    },
    {
      "cell_type": "code",
      "execution_count": null,
      "id": "30bb50a5",
      "metadata": {
        "id": "30bb50a5"
      },
      "outputs": [],
      "source": [
        "import pandas as pd\n",
        "df = pd.read_csv('train.csv')"
      ]
    },
    {
      "cell_type": "code",
      "execution_count": null,
      "id": "240e383b",
      "metadata": {
        "id": "240e383b"
      },
      "outputs": [],
      "source": []
    },
    {
      "cell_type": "code",
      "execution_count": null,
      "id": "c7e2da76",
      "metadata": {
        "id": "c7e2da76",
        "outputId": "eba96cbb-2a19-4ffd-e1b0-a182c12b70b7"
      },
      "outputs": [
        {
          "data": {
            "text/html": [
              "<div>\n",
              "<style scoped>\n",
              "    .dataframe tbody tr th:only-of-type {\n",
              "        vertical-align: middle;\n",
              "    }\n",
              "\n",
              "    .dataframe tbody tr th {\n",
              "        vertical-align: top;\n",
              "    }\n",
              "\n",
              "    .dataframe thead th {\n",
              "        text-align: right;\n",
              "    }\n",
              "</style>\n",
              "<table border=\"1\" class=\"dataframe\">\n",
              "  <thead>\n",
              "    <tr style=\"text-align: right;\">\n",
              "      <th></th>\n",
              "      <th>image_id</th>\n",
              "      <th>grapheme_root</th>\n",
              "      <th>vowel_diacritic</th>\n",
              "      <th>consonant_diacritic</th>\n",
              "      <th>grapheme</th>\n",
              "    </tr>\n",
              "  </thead>\n",
              "  <tbody>\n",
              "    <tr>\n",
              "      <th>0</th>\n",
              "      <td>Train_0</td>\n",
              "      <td>15</td>\n",
              "      <td>9</td>\n",
              "      <td>5</td>\n",
              "      <td>ক্ট্রো</td>\n",
              "    </tr>\n",
              "    <tr>\n",
              "      <th>1</th>\n",
              "      <td>Train_1</td>\n",
              "      <td>159</td>\n",
              "      <td>0</td>\n",
              "      <td>0</td>\n",
              "      <td>হ</td>\n",
              "    </tr>\n",
              "    <tr>\n",
              "      <th>2</th>\n",
              "      <td>Train_2</td>\n",
              "      <td>22</td>\n",
              "      <td>3</td>\n",
              "      <td>5</td>\n",
              "      <td>খ্রী</td>\n",
              "    </tr>\n",
              "    <tr>\n",
              "      <th>3</th>\n",
              "      <td>Train_3</td>\n",
              "      <td>53</td>\n",
              "      <td>2</td>\n",
              "      <td>2</td>\n",
              "      <td>র্টি</td>\n",
              "    </tr>\n",
              "    <tr>\n",
              "      <th>4</th>\n",
              "      <td>Train_4</td>\n",
              "      <td>71</td>\n",
              "      <td>9</td>\n",
              "      <td>5</td>\n",
              "      <td>থ্রো</td>\n",
              "    </tr>\n",
              "    <tr>\n",
              "      <th>...</th>\n",
              "      <td>...</td>\n",
              "      <td>...</td>\n",
              "      <td>...</td>\n",
              "      <td>...</td>\n",
              "      <td>...</td>\n",
              "    </tr>\n",
              "    <tr>\n",
              "      <th>200835</th>\n",
              "      <td>Train_200835</td>\n",
              "      <td>22</td>\n",
              "      <td>7</td>\n",
              "      <td>2</td>\n",
              "      <td>র্খে</td>\n",
              "    </tr>\n",
              "    <tr>\n",
              "      <th>200836</th>\n",
              "      <td>Train_200836</td>\n",
              "      <td>65</td>\n",
              "      <td>9</td>\n",
              "      <td>0</td>\n",
              "      <td>ত্তো</td>\n",
              "    </tr>\n",
              "    <tr>\n",
              "      <th>200837</th>\n",
              "      <td>Train_200837</td>\n",
              "      <td>2</td>\n",
              "      <td>1</td>\n",
              "      <td>4</td>\n",
              "      <td>অ্যা</td>\n",
              "    </tr>\n",
              "    <tr>\n",
              "      <th>200838</th>\n",
              "      <td>Train_200838</td>\n",
              "      <td>152</td>\n",
              "      <td>9</td>\n",
              "      <td>0</td>\n",
              "      <td>স্নো</td>\n",
              "    </tr>\n",
              "    <tr>\n",
              "      <th>200839</th>\n",
              "      <td>Train_200839</td>\n",
              "      <td>127</td>\n",
              "      <td>2</td>\n",
              "      <td>0</td>\n",
              "      <td>ল্টি</td>\n",
              "    </tr>\n",
              "  </tbody>\n",
              "</table>\n",
              "<p>200840 rows × 5 columns</p>\n",
              "</div>"
            ],
            "text/plain": [
              "            image_id  grapheme_root  vowel_diacritic  consonant_diacritic  \\\n",
              "0            Train_0             15                9                    5   \n",
              "1            Train_1            159                0                    0   \n",
              "2            Train_2             22                3                    5   \n",
              "3            Train_3             53                2                    2   \n",
              "4            Train_4             71                9                    5   \n",
              "...              ...            ...              ...                  ...   \n",
              "200835  Train_200835             22                7                    2   \n",
              "200836  Train_200836             65                9                    0   \n",
              "200837  Train_200837              2                1                    4   \n",
              "200838  Train_200838            152                9                    0   \n",
              "200839  Train_200839            127                2                    0   \n",
              "\n",
              "       grapheme  \n",
              "0        ক্ট্রো  \n",
              "1             হ  \n",
              "2          খ্রী  \n",
              "3          র্টি  \n",
              "4          থ্রো  \n",
              "...         ...  \n",
              "200835     র্খে  \n",
              "200836     ত্তো  \n",
              "200837     অ্যা  \n",
              "200838     স্নো  \n",
              "200839     ল্টি  \n",
              "\n",
              "[200840 rows x 5 columns]"
            ]
          },
          "execution_count": 139,
          "metadata": {},
          "output_type": "execute_result"
        }
      ],
      "source": [
        "df"
      ]
    },
    {
      "cell_type": "code",
      "execution_count": null,
      "id": "f021328d",
      "metadata": {
        "id": "f021328d",
        "outputId": "c48b610c-a232-4c43-ea72-c8f07312ec0d"
      },
      "outputs": [
        {
          "name": "stdout",
          "output_type": "stream",
          "text": [
            "168 total_grapheme_roots\n",
            "11 total_vowel_diacritic\n",
            "7 total_consonant_diacritic\n"
          ]
        }
      ],
      "source": [
        "grapheme_roots = df['grapheme_root'].values\n",
        "n, c = np.unique(grapheme_roots, return_counts=True)\n",
        "total_grapheme_roots = len(n)\n",
        "print(total_grapheme_roots, 'total_grapheme_roots')\n",
        "\n",
        "\n",
        "vowel_diacritic = df['vowel_diacritic'].values\n",
        "n, c = np.unique(vowel_diacritic, return_counts=True)\n",
        "total_vowel_diacritic = len(n)\n",
        "print(total_vowel_diacritic, 'total_vowel_diacritic')\n",
        "\n",
        "\n",
        "consonant_diacritic = df['consonant_diacritic'].values\n",
        "n, c = np.unique(consonant_diacritic, return_counts=True)\n",
        "total_consonant_diacritic = len(n)\n",
        "print(total_consonant_diacritic, 'total_consonant_diacritic')\n"
      ]
    },
    {
      "cell_type": "code",
      "execution_count": null,
      "id": "970f88d2",
      "metadata": {
        "id": "970f88d2",
        "outputId": "097c8828-39ce-44f4-e32c-4efce87dc017"
      },
      "outputs": [
        {
          "data": {
            "text/html": [
              "<div>\n",
              "<style scoped>\n",
              "    .dataframe tbody tr th:only-of-type {\n",
              "        vertical-align: middle;\n",
              "    }\n",
              "\n",
              "    .dataframe tbody tr th {\n",
              "        vertical-align: top;\n",
              "    }\n",
              "\n",
              "    .dataframe thead th {\n",
              "        text-align: right;\n",
              "    }\n",
              "</style>\n",
              "<table border=\"1\" class=\"dataframe\">\n",
              "  <thead>\n",
              "    <tr style=\"text-align: right;\">\n",
              "      <th></th>\n",
              "      <th>image_id</th>\n",
              "      <th>grapheme_root</th>\n",
              "      <th>vowel_diacritic</th>\n",
              "      <th>consonant_diacritic</th>\n",
              "      <th>grapheme</th>\n",
              "    </tr>\n",
              "  </thead>\n",
              "  <tbody>\n",
              "    <tr>\n",
              "      <th>0</th>\n",
              "      <td>Train_0</td>\n",
              "      <td>15</td>\n",
              "      <td>9</td>\n",
              "      <td>5</td>\n",
              "      <td>ক্ট্রো</td>\n",
              "    </tr>\n",
              "    <tr>\n",
              "      <th>1</th>\n",
              "      <td>Train_1</td>\n",
              "      <td>159</td>\n",
              "      <td>0</td>\n",
              "      <td>0</td>\n",
              "      <td>হ</td>\n",
              "    </tr>\n",
              "    <tr>\n",
              "      <th>2</th>\n",
              "      <td>Train_2</td>\n",
              "      <td>22</td>\n",
              "      <td>3</td>\n",
              "      <td>5</td>\n",
              "      <td>খ্রী</td>\n",
              "    </tr>\n",
              "    <tr>\n",
              "      <th>3</th>\n",
              "      <td>Train_3</td>\n",
              "      <td>53</td>\n",
              "      <td>2</td>\n",
              "      <td>2</td>\n",
              "      <td>র্টি</td>\n",
              "    </tr>\n",
              "    <tr>\n",
              "      <th>4</th>\n",
              "      <td>Train_4</td>\n",
              "      <td>71</td>\n",
              "      <td>9</td>\n",
              "      <td>5</td>\n",
              "      <td>থ্রো</td>\n",
              "    </tr>\n",
              "    <tr>\n",
              "      <th>...</th>\n",
              "      <td>...</td>\n",
              "      <td>...</td>\n",
              "      <td>...</td>\n",
              "      <td>...</td>\n",
              "      <td>...</td>\n",
              "    </tr>\n",
              "    <tr>\n",
              "      <th>200835</th>\n",
              "      <td>Train_200835</td>\n",
              "      <td>22</td>\n",
              "      <td>7</td>\n",
              "      <td>2</td>\n",
              "      <td>র্খে</td>\n",
              "    </tr>\n",
              "    <tr>\n",
              "      <th>200836</th>\n",
              "      <td>Train_200836</td>\n",
              "      <td>65</td>\n",
              "      <td>9</td>\n",
              "      <td>0</td>\n",
              "      <td>ত্তো</td>\n",
              "    </tr>\n",
              "    <tr>\n",
              "      <th>200837</th>\n",
              "      <td>Train_200837</td>\n",
              "      <td>2</td>\n",
              "      <td>1</td>\n",
              "      <td>4</td>\n",
              "      <td>অ্যা</td>\n",
              "    </tr>\n",
              "    <tr>\n",
              "      <th>200838</th>\n",
              "      <td>Train_200838</td>\n",
              "      <td>152</td>\n",
              "      <td>9</td>\n",
              "      <td>0</td>\n",
              "      <td>স্নো</td>\n",
              "    </tr>\n",
              "    <tr>\n",
              "      <th>200839</th>\n",
              "      <td>Train_200839</td>\n",
              "      <td>127</td>\n",
              "      <td>2</td>\n",
              "      <td>0</td>\n",
              "      <td>ল্টি</td>\n",
              "    </tr>\n",
              "  </tbody>\n",
              "</table>\n",
              "<p>200840 rows × 5 columns</p>\n",
              "</div>"
            ],
            "text/plain": [
              "            image_id  grapheme_root  vowel_diacritic  consonant_diacritic  \\\n",
              "0            Train_0             15                9                    5   \n",
              "1            Train_1            159                0                    0   \n",
              "2            Train_2             22                3                    5   \n",
              "3            Train_3             53                2                    2   \n",
              "4            Train_4             71                9                    5   \n",
              "...              ...            ...              ...                  ...   \n",
              "200835  Train_200835             22                7                    2   \n",
              "200836  Train_200836             65                9                    0   \n",
              "200837  Train_200837              2                1                    4   \n",
              "200838  Train_200838            152                9                    0   \n",
              "200839  Train_200839            127                2                    0   \n",
              "\n",
              "       grapheme  \n",
              "0        ক্ট্রো  \n",
              "1             হ  \n",
              "2          খ্রী  \n",
              "3          র্টি  \n",
              "4          থ্রো  \n",
              "...         ...  \n",
              "200835     র্খে  \n",
              "200836     ত্তো  \n",
              "200837     অ্যা  \n",
              "200838     স্নো  \n",
              "200839     ল্টি  \n",
              "\n",
              "[200840 rows x 5 columns]"
            ]
          },
          "execution_count": 141,
          "metadata": {},
          "output_type": "execute_result"
        }
      ],
      "source": [
        "df"
      ]
    },
    {
      "cell_type": "code",
      "execution_count": null,
      "id": "34cc95fe",
      "metadata": {
        "id": "34cc95fe",
        "outputId": "cb68f5c8-b3d8-44ea-803f-77a2e38ac439"
      },
      "outputs": [
        {
          "data": {
            "text/plain": [
              "0              Train_0\n",
              "1              Train_1\n",
              "2              Train_2\n",
              "3              Train_3\n",
              "4              Train_4\n",
              "              ...     \n",
              "200835    Train_200835\n",
              "200836    Train_200836\n",
              "200837    Train_200837\n",
              "200838    Train_200838\n",
              "200839    Train_200839\n",
              "Name: image_id, Length: 200840, dtype: object"
            ]
          },
          "execution_count": 142,
          "metadata": {},
          "output_type": "execute_result"
        }
      ],
      "source": [
        "X = df['image_id']\n",
        "X"
      ]
    },
    {
      "cell_type": "code",
      "execution_count": null,
      "id": "377013d2",
      "metadata": {
        "id": "377013d2",
        "outputId": "e531e4ce-0e09-4423-d394-e97dcc73e14d"
      },
      "outputs": [
        {
          "data": {
            "text/html": [
              "<div>\n",
              "<style scoped>\n",
              "    .dataframe tbody tr th:only-of-type {\n",
              "        vertical-align: middle;\n",
              "    }\n",
              "\n",
              "    .dataframe tbody tr th {\n",
              "        vertical-align: top;\n",
              "    }\n",
              "\n",
              "    .dataframe thead th {\n",
              "        text-align: right;\n",
              "    }\n",
              "</style>\n",
              "<table border=\"1\" class=\"dataframe\">\n",
              "  <thead>\n",
              "    <tr style=\"text-align: right;\">\n",
              "      <th></th>\n",
              "      <th>grapheme_root</th>\n",
              "      <th>vowel_diacritic</th>\n",
              "      <th>consonant_diacritic</th>\n",
              "      <th>grapheme</th>\n",
              "    </tr>\n",
              "  </thead>\n",
              "  <tbody>\n",
              "    <tr>\n",
              "      <th>0</th>\n",
              "      <td>15</td>\n",
              "      <td>9</td>\n",
              "      <td>5</td>\n",
              "      <td>ক্ট্রো</td>\n",
              "    </tr>\n",
              "    <tr>\n",
              "      <th>1</th>\n",
              "      <td>159</td>\n",
              "      <td>0</td>\n",
              "      <td>0</td>\n",
              "      <td>হ</td>\n",
              "    </tr>\n",
              "    <tr>\n",
              "      <th>2</th>\n",
              "      <td>22</td>\n",
              "      <td>3</td>\n",
              "      <td>5</td>\n",
              "      <td>খ্রী</td>\n",
              "    </tr>\n",
              "    <tr>\n",
              "      <th>3</th>\n",
              "      <td>53</td>\n",
              "      <td>2</td>\n",
              "      <td>2</td>\n",
              "      <td>র্টি</td>\n",
              "    </tr>\n",
              "    <tr>\n",
              "      <th>4</th>\n",
              "      <td>71</td>\n",
              "      <td>9</td>\n",
              "      <td>5</td>\n",
              "      <td>থ্রো</td>\n",
              "    </tr>\n",
              "    <tr>\n",
              "      <th>...</th>\n",
              "      <td>...</td>\n",
              "      <td>...</td>\n",
              "      <td>...</td>\n",
              "      <td>...</td>\n",
              "    </tr>\n",
              "    <tr>\n",
              "      <th>200835</th>\n",
              "      <td>22</td>\n",
              "      <td>7</td>\n",
              "      <td>2</td>\n",
              "      <td>র্খে</td>\n",
              "    </tr>\n",
              "    <tr>\n",
              "      <th>200836</th>\n",
              "      <td>65</td>\n",
              "      <td>9</td>\n",
              "      <td>0</td>\n",
              "      <td>ত্তো</td>\n",
              "    </tr>\n",
              "    <tr>\n",
              "      <th>200837</th>\n",
              "      <td>2</td>\n",
              "      <td>1</td>\n",
              "      <td>4</td>\n",
              "      <td>অ্যা</td>\n",
              "    </tr>\n",
              "    <tr>\n",
              "      <th>200838</th>\n",
              "      <td>152</td>\n",
              "      <td>9</td>\n",
              "      <td>0</td>\n",
              "      <td>স্নো</td>\n",
              "    </tr>\n",
              "    <tr>\n",
              "      <th>200839</th>\n",
              "      <td>127</td>\n",
              "      <td>2</td>\n",
              "      <td>0</td>\n",
              "      <td>ল্টি</td>\n",
              "    </tr>\n",
              "  </tbody>\n",
              "</table>\n",
              "<p>200840 rows × 4 columns</p>\n",
              "</div>"
            ],
            "text/plain": [
              "        grapheme_root  vowel_diacritic  consonant_diacritic grapheme\n",
              "0                  15                9                    5   ক্ট্রো\n",
              "1                 159                0                    0        হ\n",
              "2                  22                3                    5     খ্রী\n",
              "3                  53                2                    2     র্টি\n",
              "4                  71                9                    5     থ্রো\n",
              "...               ...              ...                  ...      ...\n",
              "200835             22                7                    2     র্খে\n",
              "200836             65                9                    0     ত্তো\n",
              "200837              2                1                    4     অ্যা\n",
              "200838            152                9                    0     স্নো\n",
              "200839            127                2                    0     ল্টি\n",
              "\n",
              "[200840 rows x 4 columns]"
            ]
          },
          "execution_count": 143,
          "metadata": {},
          "output_type": "execute_result"
        }
      ],
      "source": [
        "y = df.drop(['image_id'], axis=1)\n",
        "y"
      ]
    },
    {
      "cell_type": "code",
      "execution_count": null,
      "id": "af2b9441",
      "metadata": {
        "id": "af2b9441"
      },
      "outputs": [],
      "source": [
        "X_train, X_test, y_train, y_test = train_test_split(X, y, test_size=0.1, random_state=42, stratify=y)\n",
        "X_train, X_val, y_train, y_val = train_test_split(X_train, y_train, test_size=0.2, random_state=42, stratify=y_train)"
      ]
    },
    {
      "cell_type": "code",
      "execution_count": null,
      "id": "edb39b8b",
      "metadata": {
        "id": "edb39b8b"
      },
      "outputs": [],
      "source": [
        "def augment_image(img):\n",
        "    data_augmentation = ImageDataGenerator(\n",
        "        rotation_range=10,\n",
        "        width_shift_range=0.1,\n",
        "        height_shift_range=0.1,\n",
        "        zoom_range=0.1,\n",
        "        fill_mode='nearest',\n",
        "        horizontal_flip=False,\n",
        "        vertical_flip=False\n",
        "    )\n",
        "    img = data_augmentation.random_transform(img)\n",
        "    return img"
      ]
    },
    {
      "cell_type": "code",
      "execution_count": null,
      "id": "16482dca",
      "metadata": {
        "id": "16482dca"
      },
      "outputs": [],
      "source": [
        "batch_size = 256\n",
        "\n",
        "def loader(img_list, img_labels,augment=True):\n",
        "    L = len(img_list)\n",
        "    while True:\n",
        "        batch_start = 0\n",
        "        batch_end = batch_size\n",
        "        while batch_start < L:\n",
        "            limit = min(batch_end, L)\n",
        "            z = np.zeros((len(img_list[batch_start:limit]), 120, 120, 1))\n",
        "            for i, f in enumerate(img_list[batch_start:limit]):\n",
        "                img = tf.keras.utils.load_img('./images/'+f+'.jpg', color_mode='grayscale',target_size=(120, 120))\n",
        "                img = tf.keras.utils.img_to_array(img)/255.\n",
        "                if augment:\n",
        "                    img = augment_image(img)\n",
        "                z[i, :, :, :] = img\n",
        "            X = z\n",
        "            labels = img_labels[batch_start:limit]\n",
        "\n",
        "            Y = []\n",
        "\n",
        "            grapheme_roots = []\n",
        "            vowel_diacritics = []\n",
        "            consonant_diacritics = []\n",
        "            for label in labels:\n",
        "                grapheme_roots.append(label[0])\n",
        "                vowel_diacritics.append(label[1])\n",
        "                consonant_diacritics.append(label[2])\n",
        "\n",
        "            grapheme_roots = np.array(grapheme_roots)\n",
        "            vowel_diacritics = np.array(vowel_diacritics)\n",
        "            consonant_diacritics = np.array(consonant_diacritics)\n",
        "\n",
        "            yield (X,{'grapheme_root': grapheme_roots, 'vowel_diacritic': vowel_diacritics, 'consonant_diacritic': consonant_diacritics})\n",
        "            batch_start += batch_size\n",
        "            batch_end += batch_size"
      ]
    },
    {
      "cell_type": "code",
      "execution_count": null,
      "id": "b6bd4bb5",
      "metadata": {
        "id": "b6bd4bb5"
      },
      "outputs": [],
      "source": [
        "train_generator = loader(X_train.values, y_train.values)\n",
        "val_generator = loader(X_val.values, y_val.values)"
      ]
    },
    {
      "cell_type": "code",
      "execution_count": null,
      "id": "0a0822b8",
      "metadata": {
        "id": "0a0822b8",
        "outputId": "f61a60a4-8fd4-48c7-aba1-ec948f215472"
      },
      "outputs": [
        {
          "name": "stdout",
          "output_type": "stream",
          "text": [
            "Model: \"model_11\"\n",
            "__________________________________________________________________________________________________\n",
            " Layer (type)                   Output Shape         Param #     Connected to                     \n",
            "==================================================================================================\n",
            " input_17 (InputLayer)          [(None, 120, 120, 1  0           []                               \n",
            "                                )]                                                                \n",
            "                                                                                                  \n",
            " conv2d_55 (Conv2D)             (None, 120, 120, 16  160         ['input_17[0][0]']               \n",
            "                                )                                                                 \n",
            "                                                                                                  \n",
            " max_pooling2d_55 (MaxPooling2D  (None, 60, 60, 16)  0           ['conv2d_55[0][0]']              \n",
            " )                                                                                                \n",
            "                                                                                                  \n",
            " conv2d_56 (Conv2D)             (None, 60, 60, 32)   4640        ['max_pooling2d_55[0][0]']       \n",
            "                                                                                                  \n",
            " max_pooling2d_56 (MaxPooling2D  (None, 30, 30, 32)  0           ['conv2d_56[0][0]']              \n",
            " )                                                                                                \n",
            "                                                                                                  \n",
            " conv2d_57 (Conv2D)             (None, 30, 30, 64)   18496       ['max_pooling2d_56[0][0]']       \n",
            "                                                                                                  \n",
            " max_pooling2d_57 (MaxPooling2D  (None, 15, 15, 64)  0           ['conv2d_57[0][0]']              \n",
            " )                                                                                                \n",
            "                                                                                                  \n",
            " conv2d_58 (Conv2D)             (None, 15, 15, 128)  73856       ['max_pooling2d_57[0][0]']       \n",
            "                                                                                                  \n",
            " max_pooling2d_58 (MaxPooling2D  (None, 7, 7, 128)   0           ['conv2d_58[0][0]']              \n",
            " )                                                                                                \n",
            "                                                                                                  \n",
            " conv2d_59 (Conv2D)             (None, 7, 7, 256)    295168      ['max_pooling2d_58[0][0]']       \n",
            "                                                                                                  \n",
            " max_pooling2d_59 (MaxPooling2D  (None, 3, 3, 256)   0           ['conv2d_59[0][0]']              \n",
            " )                                                                                                \n",
            "                                                                                                  \n",
            " flatten_11 (Flatten)           (None, 2304)         0           ['max_pooling2d_59[0][0]']       \n",
            "                                                                                                  \n",
            " dense_66 (Dense)               (None, 512)          1180160     ['flatten_11[0][0]']             \n",
            "                                                                                                  \n",
            " dense_68 (Dense)               (None, 512)          1180160     ['flatten_11[0][0]']             \n",
            "                                                                                                  \n",
            " dense_70 (Dense)               (None, 512)          1180160     ['flatten_11[0][0]']             \n",
            "                                                                                                  \n",
            " dropout_33 (Dropout)           (None, 512)          0           ['dense_66[0][0]']               \n",
            "                                                                                                  \n",
            " dropout_34 (Dropout)           (None, 512)          0           ['dense_68[0][0]']               \n",
            "                                                                                                  \n",
            " dropout_35 (Dropout)           (None, 512)          0           ['dense_70[0][0]']               \n",
            "                                                                                                  \n",
            " dense_67 (Dense)               (None, 256)          131328      ['dropout_33[0][0]']             \n",
            "                                                                                                  \n",
            " dense_69 (Dense)               (None, 256)          131328      ['dropout_34[0][0]']             \n",
            "                                                                                                  \n",
            " dense_71 (Dense)               (None, 256)          131328      ['dropout_35[0][0]']             \n",
            "                                                                                                  \n",
            " grapheme_root (Dense)          (None, 168)          43176       ['dense_67[0][0]']               \n",
            "                                                                                                  \n",
            " vowel_diacritic (Dense)        (None, 11)           2827        ['dense_69[0][0]']               \n",
            "                                                                                                  \n",
            " consonant_diacritic (Dense)    (None, 7)            1799        ['dense_71[0][0]']               \n",
            "                                                                                                  \n",
            "==================================================================================================\n",
            "Total params: 4,374,586\n",
            "Trainable params: 4,374,586\n",
            "Non-trainable params: 0\n",
            "__________________________________________________________________________________________________\n"
          ]
        }
      ],
      "source": [
        "def simple_model():\n",
        "\n",
        "    f = 16\n",
        "    x = Input(shape=(120,120,1,))\n",
        "    init=x\n",
        "\n",
        "    conv = Conv2D(f, 3, strides=1, padding='same', activation='relu')(init)\n",
        "    conv = MaxPooling2D(2)(conv)\n",
        "\n",
        "    conv = Conv2D(f*2, 3, strides=1, padding='same', activation='relu')(conv)\n",
        "    conv = MaxPooling2D(2)(conv)\n",
        "\n",
        "    conv = Conv2D(f*4, 3, strides=1, padding='same', activation='relu')(conv)\n",
        "    conv = MaxPooling2D(2)(conv)\n",
        "\n",
        "    conv = Conv2D(f*8, 3, strides=1, padding='same', activation='relu')(conv)\n",
        "    conv = MaxPooling2D(2)(conv)\n",
        "\n",
        "\n",
        "    conv = Conv2D(f*16, 3, strides=1, padding='same', activation='relu')(conv)\n",
        "    conv = MaxPooling2D(2)(conv)\n",
        "\n",
        "    f = Flatten()(conv)\n",
        "\n",
        "    d_grapheme_root = Dense(512, activation='relu')(f)\n",
        "    d_grapheme_root = Dropout(0.5)(d_grapheme_root)\n",
        "    d_grapheme_root = Dense(256, activation='relu')(d_grapheme_root)\n",
        "\n",
        "    d_vowel_diacritic = Dense(512, activation='relu')(f)\n",
        "    d_vowel_diacritic = Dropout(0.5)(d_vowel_diacritic)\n",
        "    d_vowel_diacritic = Dense(256, activation='relu')(d_vowel_diacritic)\n",
        "\n",
        "    d_consonant_diacritic = Dense(512, activation='relu')(f)\n",
        "    d_consonant_diacritic = Dropout(0.5)(d_consonant_diacritic)\n",
        "    d_consonant_diacritic = Dense(256, activation='relu')(d_consonant_diacritic)\n",
        "\n",
        "\n",
        "    grapheme_root = Dense(total_grapheme_roots, activation='softmax', name='grapheme_root')(d_grapheme_root)\n",
        "    vowel_diacritic = Dense(total_vowel_diacritic, activation='softmax', name='vowel_diacritic')(d_vowel_diacritic)\n",
        "    consonant_diacritic = Dense(total_consonant_diacritic, activation='softmax', name='consonant_diacritic')(d_consonant_diacritic)\n",
        "\n",
        "\n",
        "    model = Model(inputs=x, outputs=[grapheme_root, vowel_diacritic, consonant_diacritic])\n",
        "\n",
        "    return model\n",
        "\n",
        "model = simple_model()\n",
        "model.summary()"
      ]
    },
    {
      "cell_type": "code",
      "execution_count": null,
      "id": "c246441a",
      "metadata": {
        "scrolled": true,
        "id": "c246441a",
        "outputId": "d67dd97c-1423-482e-ed5e-b4db52d6bba8"
      },
      "outputs": [
        {
          "name": "stdout",
          "output_type": "stream",
          "text": [
            "\n",
            "Epoch 1: LearningRateScheduler setting learning rate to 0.001.\n",
            "Epoch 1/10\n",
            "564/564 [==============================] - ETA: 0s - loss: 6.4462 - grapheme_root_loss: 4.3165 - vowel_diacritic_loss: 1.2426 - consonant_diacritic_loss: 0.8871 - grapheme_root_accuracy: 0.0655 - vowel_diacritic_accuracy: 0.5480 - consonant_diacritic_accuracy: 0.7011\n",
            "Epoch 1: val_loss improved from inf to 4.08227, saving model to .\\test.hdf5\n",
            "564/564 [==============================] - 590s 1s/step - loss: 6.4462 - grapheme_root_loss: 4.3165 - vowel_diacritic_loss: 1.2426 - consonant_diacritic_loss: 0.8871 - grapheme_root_accuracy: 0.0655 - vowel_diacritic_accuracy: 0.5480 - consonant_diacritic_accuracy: 0.7011 - val_loss: 4.0823 - val_grapheme_root_loss: 3.1648 - val_vowel_diacritic_loss: 0.4612 - val_consonant_diacritic_loss: 0.4562 - val_grapheme_root_accuracy: 0.2119 - val_vowel_diacritic_accuracy: 0.8405 - val_consonant_diacritic_accuracy: 0.8367 - lr: 0.0010\n",
            "\n",
            "Epoch 2: LearningRateScheduler setting learning rate to 0.001.\n",
            "Epoch 2/10\n",
            "564/564 [==============================] - ETA: 0s - loss: 3.3254 - grapheme_root_loss: 2.5097 - vowel_diacritic_loss: 0.4148 - consonant_diacritic_loss: 0.4010 - grapheme_root_accuracy: 0.3305 - vowel_diacritic_accuracy: 0.8598 - consonant_diacritic_accuracy: 0.8608\n",
            "Epoch 2: val_loss improved from 4.08227 to 2.28956, saving model to .\\test.hdf5\n",
            "564/564 [==============================] - 585s 1s/step - loss: 3.3254 - grapheme_root_loss: 2.5097 - vowel_diacritic_loss: 0.4148 - consonant_diacritic_loss: 0.4010 - grapheme_root_accuracy: 0.3305 - vowel_diacritic_accuracy: 0.8598 - consonant_diacritic_accuracy: 0.8608 - val_loss: 2.2896 - val_grapheme_root_loss: 1.6634 - val_vowel_diacritic_loss: 0.3217 - val_consonant_diacritic_loss: 0.3044 - val_grapheme_root_accuracy: 0.5318 - val_vowel_diacritic_accuracy: 0.8910 - val_consonant_diacritic_accuracy: 0.8933 - lr: 0.0010\n",
            "\n",
            "Epoch 3: LearningRateScheduler setting learning rate to 0.001.\n",
            "Epoch 3/10\n",
            "564/564 [==============================] - ETA: 0s - loss: 2.2363 - grapheme_root_loss: 1.6358 - vowel_diacritic_loss: 0.3044 - consonant_diacritic_loss: 0.2961 - grapheme_root_accuracy: 0.5336 - vowel_diacritic_accuracy: 0.8985 - consonant_diacritic_accuracy: 0.8991\n",
            "Epoch 3: val_loss improved from 2.28956 to 1.69361, saving model to .\\test.hdf5\n",
            "564/564 [==============================] - 602s 1s/step - loss: 2.2363 - grapheme_root_loss: 1.6358 - vowel_diacritic_loss: 0.3044 - consonant_diacritic_loss: 0.2961 - grapheme_root_accuracy: 0.5336 - vowel_diacritic_accuracy: 0.8985 - consonant_diacritic_accuracy: 0.8991 - val_loss: 1.6936 - val_grapheme_root_loss: 1.1986 - val_vowel_diacritic_loss: 0.2491 - val_consonant_diacritic_loss: 0.2459 - val_grapheme_root_accuracy: 0.6576 - val_vowel_diacritic_accuracy: 0.9177 - val_consonant_diacritic_accuracy: 0.9188 - lr: 0.0010\n",
            "\n",
            "Epoch 4: LearningRateScheduler setting learning rate to 0.001.\n",
            "Epoch 4/10\n",
            "146/564 [======>.......................] - ETA: 6:59 - loss: 1.9044 - grapheme_root_loss: 1.3802 - vowel_diacritic_loss: 0.2648 - consonant_diacritic_loss: 0.2594 - grapheme_root_accuracy: 0.6028 - vowel_diacritic_accuracy: 0.9146 - consonant_diacritic_accuracy: 0.9124"
          ]
        }
      ],
      "source": [
        "media_start = './'\n",
        "optimizer = Adam(0.001)\n",
        "\n",
        "model_path = media_start+\"test.hdf5\"\n",
        "\n",
        "checkpoint = ModelCheckpoint(model_path, save_freq=\"epoch\",save_best_only=True,\n",
        "    save_weights_only=False, monitor='val_loss', verbose=1)\n",
        "\n",
        "csv_logger = CSVLogger(media_start+\"log.csv\")\n",
        "\n",
        "ce = tf.keras.losses.SparseCategoricalCrossentropy(\n",
        "    from_logits=False, reduction=\"auto\", name=\"sparse_categorical_crossentropy\"\n",
        ")\n",
        "\n",
        "model.compile(optimizer = optimizer, loss=ce, metrics = ['accuracy'])\n",
        "\n",
        "train_steps = len(X_train)//batch_size\n",
        "val_steps = len(X_val)//batch_size\n",
        "\n",
        "def scheduler(epoch):\n",
        "    initial = 0.001\n",
        "    lr = initial\n",
        "    if epoch >= 10:\n",
        "        lr = 0.0001\n",
        "    return lr\n",
        "\n",
        "\n",
        "scheduler_callback = LearningRateScheduler(scheduler, verbose=1)\n",
        "\n",
        "history = model.fit(train_generator,\n",
        "        steps_per_epoch=train_steps,\n",
        "        epochs=10,\n",
        "        verbose=1,\n",
        "        validation_data=val_generator,\n",
        "        validation_steps=val_steps,\n",
        "        callbacks=[checkpoint, csv_logger, scheduler_callback]\n",
        ")"
      ]
    },
    {
      "cell_type": "code",
      "execution_count": null,
      "id": "24d0d410",
      "metadata": {
        "id": "24d0d410"
      },
      "outputs": [],
      "source": [
        "# FOR RECONSTRUCTION PURPOSE\n",
        "df_gr = pd.read_csv('train.csv')\n",
        "df_gr = df_gr.drop_duplicates(subset=['grapheme'])\n",
        "dv = df_gr.values\n",
        "grapheme_roots = []\n",
        "_grapheme_roots = []\n",
        "\n",
        "for v in dv:\n",
        "    if v[1] != 0 and v[2] == 0 and v[3] == 0 and v[-1] not in _grapheme_roots:\n",
        "        _grapheme_roots.append(v[-1])\n",
        "        grapheme_roots.append({'numeric': v[1], 'value': v[-1]})\n",
        "\n",
        "vowel_diacritics = {}\n",
        "vowel_diacritics[0] = ''\n",
        "vowel_diacritics[1] = 'া'\n",
        "vowel_diacritics[2] = 'ি'\n",
        "vowel_diacritics[3] = 'ী'\n",
        "vowel_diacritics[4] = 'ু'\n",
        "vowel_diacritics[5] = 'ূ'\n",
        "vowel_diacritics[6] = 'ৃ'\n",
        "vowel_diacritics[7] = 'ে'\n",
        "vowel_diacritics[8] = 'ৈ'\n",
        "vowel_diacritics[9] = 'ো'\n",
        "vowel_diacritics[10] = 'ৌ'\n",
        "\n",
        "\n",
        "consonant_diacritics = {}\n",
        "consonant_diacritics[0] = ''\n",
        "consonant_diacritics[1] = 'ঁ'\n",
        "consonant_diacritics[2] = '\\u09b0\\u09cd'\n",
        "consonant_diacritics[3] = 'র্য' #//ref + ja fala\n",
        "consonant_diacritics[4] = '্য'\n",
        "consonant_diacritics[5] = '্র'\n",
        "consonant_diacritics[6] = '্র্য'\n",
        "consonant_diacritics[7] = 'র্্র'#ref + ra fala\n",
        "\n",
        "\n",
        "def get_grapheme_root(numeric):\n",
        "    for item in grapheme_roots:\n",
        "        if item['numeric'] == numeric:\n",
        "            return item['value']\n",
        "    return ''\n",
        "\n",
        "def get_vowel_diacritic(numeric):\n",
        "    global vowel_diacritics\n",
        "    return vowel_diacritics[numeric]\n",
        "\n",
        "def get_consonant_diacritic(numeric):\n",
        "    global consonant_diacritics\n",
        "    return consonant_diacritics[numeric]\n",
        "\n"
      ]
    },
    {
      "cell_type": "code",
      "execution_count": null,
      "id": "31cb9a90",
      "metadata": {
        "id": "31cb9a90"
      },
      "outputs": [],
      "source": [
        "consonant_middle=[5,4,6]\n",
        "consonant_after=[1]\n",
        "consonant_before=[2]\n"
      ]
    },
    {
      "cell_type": "code",
      "execution_count": null,
      "id": "6d06e5a8",
      "metadata": {
        "id": "6d06e5a8"
      },
      "outputs": [],
      "source": [
        "def get_grapheme(gr,vd,cd):\n",
        "    consonant_middle=[5,4,6]\n",
        "    consonant_after=[1]\n",
        "\n",
        "\n",
        "    if cd in consonant_middle\n",
        "        return get_grapheme_root(gr)+get_consonant_diacritic(cd)+get_vowel_diacritic(vd)\n",
        "    elif cd==2 #ref\n",
        "        return get_consonant_diacritic(cd)+get_grapheme_root(gr)+get_vowel_diacritic(vd)\n",
        "    elif cd==3 #ref+ ja fala\n",
        "        return '\\u09b0\\u09cd'+get_grapheme_root(gr)+'্য'+get_vowel_diacritic(vd)\n",
        "    elif cd==7 #ref+ ra fala\n",
        "        return '\\u09b0\\u09cd'+get_grapheme_root(gr)+'্র'+get_vowel_diacritic(vd)\n",
        "    elif cd in consonant_after\n",
        "        return get_grapheme_root(gr)+get_vowel_diacritic(vd)+get_consonant_diacritic(cd)"
      ]
    },
    {
      "cell_type": "code",
      "execution_count": null,
      "id": "2bd5dd1d",
      "metadata": {
        "id": "2bd5dd1d",
        "outputId": "6f1c9606-7177-4716-b3fd-4a8a25dfa187"
      },
      "outputs": [
        {
          "name": "stdout",
          "output_type": "stream",
          "text": [
            "গর্্র\n",
            "গার্্র\n",
            "গির্্র\n",
            "গীর্্র\n",
            "গুর্্র\n",
            "গূর্্র\n",
            "গৃর্্র\n",
            "গের্্র\n",
            "গৈর্্র\n",
            "গোর্্র\n",
            "গৌর্্র\n"
          ]
        }
      ],
      "source": [
        "\n",
        "\n",
        "print(get_grapheme(23,0,7))\n",
        "print(get_grapheme(23,1,7))\n",
        "print(get_grapheme(23,2,7))\n",
        "print(get_grapheme(23,3,7))\n",
        "print(get_grapheme(23,4,7))\n",
        "print(get_grapheme(23,5,7))\n",
        "print(get_grapheme(23,6,7))\n",
        "print(get_grapheme(23,7,7))\n",
        "print(get_grapheme(23,8,7))\n",
        "print(get_grapheme(23,9,7))\n",
        "print(get_grapheme(23,10,7))\n",
        "\n",
        "\n",
        "\n",
        "\n",
        "\n"
      ]
    },
    {
      "cell_type": "code",
      "execution_count": null,
      "id": "6e159bb0",
      "metadata": {
        "scrolled": false,
        "id": "6e159bb0",
        "outputId": "f45f3ecb-e4ba-46a4-bc03-b9edeb0f22a2"
      },
      "outputs": [
        {
          "data": {
            "image/png": "[encoded data removed]",
            "text/plain": [
              "<Figure size 100x100 with 1 Axes>"
            ]
          },
          "metadata": {},
          "output_type": "display_data"
        },
        {
          "name": "stdout",
          "output_type": "stream",
          "text": [
            "grapheme_root ছ + constant_diacritic ্য + vowel_diacritic া =  ছা্য\n",
            "grapheme_root ছ + vowel_diacritic া + consonant_diacritic ্য =  ছ্যা\n",
            "Grapheme from CSV (Prediction) =  ছ্যা\n",
            "Actual Grapheme (True) =  ছ্যা\n"
          ]
        },
        {
          "data": {
            "image/png": "[encoded data removed]",
            "text/plain": [
              "<Figure size 100x100 with 1 Axes>"
            ]
          },
          "metadata": {},
          "output_type": "display_data"
        },
        {
          "name": "stdout",
          "output_type": "stream",
          "text": [
            "grapheme_root ন্থ + constant_diacritic  + vowel_diacritic ি =  ন্থি\n",
            "grapheme_root ন্থ + vowel_diacritic ি + consonant_diacritic  =  ন্থি\n",
            "Grapheme from CSV (Prediction) =  ন্থি\n",
            "Actual Grapheme (True) =  ণ্ডি\n"
          ]
        },
        {
          "data": {
            "image/png": "[encoded data removed]",
            "text/plain": [
              "<Figure size 100x100 with 1 Axes>"
            ]
          },
          "metadata": {},
          "output_type": "display_data"
        },
        {
          "name": "stdout",
          "output_type": "stream",
          "text": [
            "grapheme_root ব + constant_diacritic ঁ + vowel_diacritic ে =  বেঁ\n",
            "grapheme_root ব + vowel_diacritic ে + consonant_diacritic ঁ =  বঁে\n",
            "Grapheme from CSV (Prediction) =  বেঁ\n",
            "Actual Grapheme (True) =  বেঁ\n"
          ]
        },
        {
          "data": {
            "image/png": "[encoded data removed]",
            "text/plain": [
              "<Figure size 100x100 with 1 Axes>"
            ]
          },
          "metadata": {},
          "output_type": "display_data"
        },
        {
          "name": "stdout",
          "output_type": "stream",
          "text": [
            "grapheme_root ন্ত + constant_diacritic  + vowel_diacritic  =  ন্ত\n",
            "grapheme_root ন্ত + vowel_diacritic  + consonant_diacritic  =  ন্ত\n",
            "Grapheme from CSV (Prediction) =  ন্ত\n",
            "Actual Grapheme (True) =  ন্ত\n"
          ]
        },
        {
          "data": {
            "image/png": "[encoded data removed]",
            "text/plain": [
              "<Figure size 100x100 with 1 Axes>"
            ]
          },
          "metadata": {},
          "output_type": "display_data"
        },
        {
          "name": "stdout",
          "output_type": "stream",
          "text": [
            "grapheme_root প্ট + constant_diacritic  + vowel_diacritic ে =  প্টে\n",
            "grapheme_root প্ট + vowel_diacritic ে + consonant_diacritic  =  প্টে\n",
            "Grapheme from CSV (Prediction) =  প্টে\n",
            "Actual Grapheme (True) =  প্টে\n"
          ]
        },
        {
          "data": {
            "image/png": "[encoded data removed]",
            "text/plain": [
              "<Figure size 100x100 with 1 Axes>"
            ]
          },
          "metadata": {},
          "output_type": "display_data"
        },
        {
          "name": "stdout",
          "output_type": "stream",
          "text": [
            "grapheme_root চ + constant_diacritic র্ + vowel_diacritic  =  চর্\n",
            "grapheme_root চ + vowel_diacritic  + consonant_diacritic র্ =  চর্\n",
            "Grapheme from CSV (Prediction) =  র্চ\n",
            "Actual Grapheme (True) =  র্চ\n"
          ]
        },
        {
          "data": {
            "image/png": "[encoded data removed]",
            "text/plain": [
              "<Figure size 100x100 with 1 Axes>"
            ]
          },
          "metadata": {},
          "output_type": "display_data"
        },
        {
          "name": "stdout",
          "output_type": "stream",
          "text": [
            "grapheme_root চ্ছ্ব + constant_diacritic  + vowel_diacritic  =  চ্ছ্ব\n",
            "grapheme_root চ্ছ্ব + vowel_diacritic  + consonant_diacritic  =  চ্ছ্ব\n",
            "Grapheme from CSV (Prediction) =  চ্ছ্ব\n",
            "Actual Grapheme (True) =  চ্ছ্ব\n"
          ]
        },
        {
          "data": {
            "image/png": "[encoded data removed]",
            "text/plain": [
              "<Figure size 100x100 with 1 Axes>"
            ]
          },
          "metadata": {},
          "output_type": "display_data"
        },
        {
          "name": "stdout",
          "output_type": "stream",
          "text": [
            "grapheme_root হ্ন + constant_diacritic  + vowel_diacritic ি =  হ্নি\n",
            "grapheme_root হ্ন + vowel_diacritic ি + consonant_diacritic  =  হ্নি\n",
            "Grapheme from CSV (Prediction) =  হ্নি\n",
            "Actual Grapheme (True) =  হ্নি\n"
          ]
        },
        {
          "data": {
            "image/png": "[encoded data removed]",
            "text/plain": [
              "<Figure size 100x100 with 1 Axes>"
            ]
          },
          "metadata": {},
          "output_type": "display_data"
        },
        {
          "name": "stdout",
          "output_type": "stream",
          "text": [
            "grapheme_root স্ত + constant_diacritic  + vowel_diacritic ী =  স্তী\n",
            "grapheme_root স্ত + vowel_diacritic ী + consonant_diacritic  =  স্তী\n",
            "Grapheme from CSV (Prediction) =  স্তী\n",
            "Actual Grapheme (True) =  ঞ্জী\n"
          ]
        },
        {
          "data": {
            "image/png": "[encoded data removed]",
            "text/plain": [
              "<Figure size 100x100 with 1 Axes>"
            ]
          },
          "metadata": {},
          "output_type": "display_data"
        },
        {
          "name": "stdout",
          "output_type": "stream",
          "text": [
            "grapheme_root দ্ব + constant_diacritic  + vowel_diacritic ি =  দ্বি\n",
            "grapheme_root দ্ব + vowel_diacritic ি + consonant_diacritic  =  দ্বি\n",
            "Grapheme from CSV (Prediction) =  দ্বি\n",
            "Actual Grapheme (True) =  দ্বি\n"
          ]
        },
        {
          "data": {
            "image/png": "[encoded data removed]",
            "text/plain": [
              "<Figure size 100x100 with 1 Axes>"
            ]
          },
          "metadata": {},
          "output_type": "display_data"
        },
        {
          "name": "stdout",
          "output_type": "stream",
          "text": [
            "grapheme_root ন + constant_diacritic  + vowel_diacritic া =  না\n",
            "grapheme_root ন + vowel_diacritic া + consonant_diacritic  =  না\n",
            "Grapheme from CSV (Prediction) =  না\n",
            "Actual Grapheme (True) =  ন্মা\n"
          ]
        },
        {
          "data": {
            "image/png": "[encoded data removed]",
            "text/plain": [
              "<Figure size 100x100 with 1 Axes>"
            ]
          },
          "metadata": {},
          "output_type": "display_data"
        },
        {
          "name": "stdout",
          "output_type": "stream",
          "text": [
            "grapheme_root স + constant_diacritic ্র + vowel_diacritic া =  সা্র\n",
            "grapheme_root স + vowel_diacritic া + consonant_diacritic ্র =  স্রা\n",
            "Grapheme from CSV (Prediction) =  স্রা\n",
            "Actual Grapheme (True) =  স্রা\n"
          ]
        },
        {
          "data": {
            "image/png": "[encoded data removed]",
            "text/plain": [
              "<Figure size 100x100 with 1 Axes>"
            ]
          },
          "metadata": {},
          "output_type": "display_data"
        },
        {
          "name": "stdout",
          "output_type": "stream",
          "text": [
            "grapheme_root গ + constant_diacritic ঁ + vowel_diacritic ো =  গোঁ\n",
            "grapheme_root গ + vowel_diacritic ো + consonant_diacritic ঁ =  গঁো\n",
            "Grapheme from CSV (Prediction) =  গোঁ\n",
            "Actual Grapheme (True) =  গোঁ\n"
          ]
        },
        {
          "data": {
            "image/png": "[encoded data removed]",
            "text/plain": [
              "<Figure size 100x100 with 1 Axes>"
            ]
          },
          "metadata": {},
          "output_type": "display_data"
        },
        {
          "name": "stdout",
          "output_type": "stream",
          "text": [
            "grapheme_root গ্ন + constant_diacritic  + vowel_diacritic া =  গ্না\n",
            "grapheme_root গ্ন + vowel_diacritic া + consonant_diacritic  =  গ্না\n",
            "Grapheme from CSV (Prediction) =  গ্না\n",
            "Actual Grapheme (True) =  গ্লা\n"
          ]
        },
        {
          "data": {
            "image/png": "[encoded data removed]",
            "text/plain": [
              "<Figure size 100x100 with 1 Axes>"
            ]
          },
          "metadata": {},
          "output_type": "display_data"
        },
        {
          "name": "stdout",
          "output_type": "stream",
          "text": [
            "grapheme_root ব্ল + constant_diacritic  + vowel_diacritic ি =  ব্লি\n",
            "grapheme_root ব্ল + vowel_diacritic ি + consonant_diacritic  =  ব্লি\n",
            "Grapheme from CSV (Prediction) =  ব্লি\n",
            "Actual Grapheme (True) =  ব্লি\n"
          ]
        },
        {
          "data": {
            "image/png": "[encoded data removed]",
            "text/plain": [
              "<Figure size 100x100 with 1 Axes>"
            ]
          },
          "metadata": {},
          "output_type": "display_data"
        },
        {
          "name": "stdout",
          "output_type": "stream",
          "text": [
            "grapheme_root দ + constant_diacritic ্র + vowel_diacritic ৌ =  দৌ্র\n",
            "grapheme_root দ + vowel_diacritic ৌ + consonant_diacritic ্র =  দ্রৌ\n",
            "Grapheme from CSV (Prediction) =  দ্রৌ\n",
            "Actual Grapheme (True) =  দ্রৌ\n"
          ]
        },
        {
          "data": {
            "image/png": "[encoded data removed]",
            "text/plain": [
              "<Figure size 100x100 with 1 Axes>"
            ]
          },
          "metadata": {},
          "output_type": "display_data"
        },
        {
          "name": "stdout",
          "output_type": "stream",
          "text": [
            "grapheme_root ভ + constant_diacritic র্ + vowel_diacritic ু =  ভুর্\n",
            "grapheme_root ভ + vowel_diacritic ু + consonant_diacritic র্ =  ভর্ু\n",
            "Grapheme from CSV (Prediction) =  র্ভু\n",
            "Actual Grapheme (True) =  র্ভু\n"
          ]
        },
        {
          "data": {
            "image/png": "[encoded data removed]",
            "text/plain": [
              "<Figure size 100x100 with 1 Axes>"
            ]
          },
          "metadata": {},
          "output_type": "display_data"
        },
        {
          "name": "stdout",
          "output_type": "stream",
          "text": [
            "grapheme_root ঘ + constant_diacritic ্র + vowel_diacritic  =  ঘ্র\n",
            "grapheme_root ঘ + vowel_diacritic  + consonant_diacritic ্র =  ঘ্র\n",
            "Grapheme from CSV (Prediction) =  ঘ্র\n",
            "Actual Grapheme (True) =  ঘ্র\n"
          ]
        },
        {
          "data": {
            "image/png": "[encoded data removed]",
            "text/plain": [
              "<Figure size 100x100 with 1 Axes>"
            ]
          },
          "metadata": {},
          "output_type": "display_data"
        },
        {
          "name": "stdout",
          "output_type": "stream",
          "text": [
            "grapheme_root ঙ্খ + constant_diacritic  + vowel_diacritic ি =  ঙ্খি\n",
            "grapheme_root ঙ্খ + vowel_diacritic ি + consonant_diacritic  =  ঙ্খি\n",
            "Grapheme from CSV (Prediction) =  ঙ্খি\n",
            "Actual Grapheme (True) =  ঙ্খি\n"
          ]
        },
        {
          "data": {
            "image/png": "[encoded data removed]",
            "text/plain": [
              "<Figure size 100x100 with 1 Axes>"
            ]
          },
          "metadata": {},
          "output_type": "display_data"
        },
        {
          "name": "stdout",
          "output_type": "stream",
          "text": [
            "grapheme_root দ্ব + constant_diacritic  + vowel_diacritic ী =  দ্বী\n",
            "grapheme_root দ্ব + vowel_diacritic ী + consonant_diacritic  =  দ্বী\n",
            "Grapheme from CSV (Prediction) =  দ্বী\n",
            "Actual Grapheme (True) =  দ্বী\n"
          ]
        }
      ],
      "source": [
        "model.load_weights('test.hdf5')\n",
        "\n",
        "y_true_grapheme_root = []\n",
        "y_true_vowel_diacritic = []\n",
        "y_true_consonant_diacritic = []\n",
        "\n",
        "y_pred_grapheme_root = []\n",
        "y_pred_vowel_diacritic = []\n",
        "y_pred_consonant_diacritic = []\n",
        "\n",
        "for i, f in enumerate(X_test):\n",
        "    img = tf.keras.utils.load_img('./images/'+f+'.jpg', color_mode='grayscale',target_size=(120, 120))\n",
        "    img = tf.keras.utils.img_to_array(img)/255.\n",
        "    img = np.expand_dims(img, axis=0)\n",
        "    pr = model.predict(img, verbose=0)\n",
        "\n",
        "    pred_grapheme_root = np.argmax(pr[0], axis=-1)[0]\n",
        "    pred_vowel_diacritic = np.argmax(pr[1], axis=-1)[0]\n",
        "    pred_consonant_diacritic = np.argmax(pr[2], axis=-1)[0]\n",
        "\n",
        "\n",
        "    true_grapheme_root = y_test['grapheme_root'].iloc[i]\n",
        "    true_vowel_diacritic = y_test['vowel_diacritic'].iloc[i]\n",
        "    true_consonant_diacritic = y_test['consonant_diacritic'].iloc[i]\n",
        "\n",
        "\n",
        "    y_pred_grapheme_root.append(pred_grapheme_root)\n",
        "    y_pred_vowel_diacritic.append(pred_vowel_diacritic)\n",
        "    y_pred_consonant_diacritic.append(np.argmax(pr[2], axis=-1)[0])\n",
        "\n",
        "    y_true_grapheme_root.append(y_test['grapheme_root'].iloc[i])\n",
        "    y_true_vowel_diacritic.append(y_test['vowel_diacritic'].iloc[i])\n",
        "    y_true_consonant_diacritic.append(y_test['consonant_diacritic'].iloc[i])\n",
        "\n",
        "\n",
        "    if i < 20:\n",
        "\n",
        "        plt.rcParams[\"figure.figsize\"] = (1,1)\n",
        "\n",
        "        plt.imshow(img[0, :, :, :], cmap='gray')\n",
        "        plt.show()\n",
        "\n",
        "        pred_grapheme_root_char = get_grapheme_root(pred_grapheme_root)\n",
        "        pred_vowel_diacritic_char = get_vowel_diacritic(pred_vowel_diacritic)\n",
        "        pred_consonant_diacritic_char = get_consonant_diacritic(pred_consonant_diacritic)\n",
        "\n",
        "\n",
        "        grapheme_pred = pred_grapheme_root_char + pred_vowel_diacritic_char + pred_consonant_diacritic_char\n",
        "\n",
        "        print('grapheme_root '+str(pred_grapheme_root_char)+' + constant_diacritic '+str(pred_consonant_diacritic_char)+' + vowel_diacritic '+str(pred_vowel_diacritic_char)+' = ', grapheme_pred)\n",
        "\n",
        "        grapheme_pred = pred_grapheme_root_char + pred_consonant_diacritic_char + pred_vowel_diacritic_char\n",
        "\n",
        "        print('grapheme_root '+str(pred_grapheme_root_char)+' + vowel_diacritic '+str(pred_vowel_diacritic_char)+' + consonant_diacritic '+str(pred_consonant_diacritic_char)+' = ', grapheme_pred)\n",
        "\n",
        "\n",
        "        grapheme_from_csv = df_gr.loc[(df['grapheme_root'] == pred_grapheme_root) & (df['vowel_diacritic'] == pred_vowel_diacritic) & (df['consonant_diacritic'] == pred_consonant_diacritic)].values[0][-1]\n",
        "\n",
        "        print(\"Grapheme from CSV (Prediction) = \", grapheme_from_csv)\n",
        "\n",
        "        print(\"Actual Grapheme (True) = \", y_test['grapheme'].iloc[i])"
      ]
    },
    {
      "cell_type": "code",
      "execution_count": null,
      "id": "111ec41e",
      "metadata": {
        "id": "111ec41e",
        "outputId": "12fcb215-a1d3-481e-cca2-fee198b467ab"
      },
      "outputs": [
        {
          "name": "stdout",
          "output_type": "stream",
          "text": [
            "Accuracy score grapheme_root 0.8554072893845848\n"
          ]
        }
      ],
      "source": [
        "print(\"Accuracy score grapheme_root\", accuracy_score(y_true_grapheme_root, y_pred_grapheme_root))"
      ]
    },
    {
      "cell_type": "code",
      "execution_count": null,
      "id": "3160dbb3",
      "metadata": {
        "id": "3160dbb3",
        "outputId": "9f799c96-d622-4166-bffe-57e58696b6b5"
      },
      "outputs": [
        {
          "name": "stdout",
          "output_type": "stream",
          "text": [
            "Accuracy score vowel_diacritic 0.958424616610237\n"
          ]
        }
      ],
      "source": [
        "print(\"Accuracy score vowel_diacritic\", accuracy_score(y_true_vowel_diacritic, y_pred_vowel_diacritic))"
      ]
    },
    {
      "cell_type": "code",
      "execution_count": null,
      "id": "871af7a4",
      "metadata": {
        "id": "871af7a4",
        "outputId": "bcbc4598-97d9-4fc2-a90a-0513a68ba8d9"
      },
      "outputs": [
        {
          "name": "stdout",
          "output_type": "stream",
          "text": [
            "Accuracy score consonant_diacritic 0.9575781716789484\n"
          ]
        }
      ],
      "source": [
        "print(\"Accuracy score consonant_diacritic\", accuracy_score(y_true_consonant_diacritic, y_pred_consonant_diacritic))"
      ]
    },
    {
      "cell_type": "code",
      "execution_count": null,
      "id": "8ce411ee",
      "metadata": {
        "id": "8ce411ee",
        "outputId": "f2a4a07e-ed5f-408e-f39d-761c7dfb3b51"
      },
      "outputs": [
        {
          "data": {
            "text/plain": [
              "{'loss': [5.543370723724365, 2.490988254547119],\n",
              " 'grapheme_root_loss': [3.859602928161621, 1.8519395589828491],\n",
              " 'vowel_diacritic_loss': [0.95960533618927, 0.3287510573863983],\n",
              " 'consonant_diacritic_loss': [0.7241612076759338, 0.3102959096431732],\n",
              " 'grapheme_root_accuracy': [0.12212826311588287, 0.47813478112220764],\n",
              " 'vowel_diacritic_accuracy': [0.6574194431304932, 0.8899402022361755],\n",
              " 'consonant_diacritic_accuracy': [0.7545740008354187, 0.8940585255622864],\n",
              " 'val_loss': [2.9628255367279053, 1.7065246105194092],\n",
              " 'val_grapheme_root_loss': [2.2410244941711426, 1.2078303098678589],\n",
              " 'val_vowel_diacritic_loss': [0.37639403343200684, 0.2501303553581238],\n",
              " 'val_consonant_diacritic_loss': [0.3454073965549469, 0.24856464564800262],\n",
              " 'val_grapheme_root_accuracy': [0.38502880930900574, 0.6509585380554199],\n",
              " 'val_vowel_diacritic_accuracy': [0.8717309236526489, 0.9194924831390381],\n",
              " 'val_consonant_diacritic_accuracy': [0.879044771194458, 0.9150598645210266],\n",
              " 'lr': [0.001, 0.001]}"
            ]
          },
          "execution_count": 53,
          "metadata": {},
          "output_type": "execute_result"
        }
      ],
      "source": [
        "history.history"
      ]
    },
    {
      "cell_type": "code",
      "execution_count": null,
      "id": "dd0b18bf",
      "metadata": {
        "id": "dd0b18bf"
      },
      "outputs": [],
      "source": []
    }
  ],
  "metadata": {
    "kernelspec": {
      "display_name": "Python 3 (ipykernel)",
      "language": "python",
      "name": "python3"
    },
    "language_info": {
      "codemirror_mode": {
        "name": "ipython",
        "version": 3
      },
      "file_extension": ".py",
      "mimetype": "text/x-python",
      "name": "python",
      "nbconvert_exporter": "python",
      "pygments_lexer": "ipython3",
      "version": "3.10.9"
    },
    "colab": {
      "provenance": []
    }
  },
  "nbformat": 4,
  "nbformat_minor": 5
}