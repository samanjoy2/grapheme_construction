{
  "cells": [
    {
      "cell_type": "code",
      "execution_count": 1,
      "id": "a735f224",
      "metadata": {
        "id": "a735f224",
        "outputId": "12966dda-ca60-445c-bc80-3099d09f3b0e"
      },
      "outputs": [],
      "source": [
        "import numpy as np\n",
        "import os\n",
        "import tensorflow as tf\n",
        "from tensorflow.keras.optimizers import Adam\n",
        "import keras\n",
        "from keras.layers import Dense, Dropout, Flatten, Input\n",
        "from keras.layers import *\n",
        "from keras.models import Sequential, Model, load_model\n",
        "from tensorflow.keras import mixed_precision\n",
        "import keras.backend as K\n",
        "import pandas as pd\n",
        "from tensorflow.keras import mixed_precision\n",
        "import matplotlib.pyplot as plt\n",
        "import splitfolders\n",
        "import zipfile\n",
        "from keras.callbacks import ModelCheckpoint, EarlyStopping, CSVLogger, LearningRateScheduler\n",
        "import shutil\n",
        "import sys\n",
        "from sklearn.metrics import classification_report, accuracy_score\n",
        "from sklearn.model_selection import train_test_split\n",
        "import locale\n",
        "locale.setlocale(locale.LC_ALL, 'bn_BD.UTF-8')\n",
        "from keras.preprocessing.image import ImageDataGenerator"
      ]
    },
    {
      "cell_type": "code",
      "execution_count": 2,
      "id": "30bb50a5",
      "metadata": {
        "id": "30bb50a5"
      },
      "outputs": [],
      "source": [
        "df = pd.read_csv('train.csv')"
      ]
    },
    {
      "cell_type": "code",
      "execution_count": 3,
      "id": "f021328d",
      "metadata": {
        "id": "f021328d",
        "outputId": "c48b610c-a232-4c43-ea72-c8f07312ec0d"
      },
      "outputs": [],
      "source": [
        "grapheme_roots = df['grapheme_root'].values\n",
        "n, c = np.unique(grapheme_roots, return_counts=True)\n",
        "total_grapheme_roots = len(n)\n",
        "\n",
        "vowel_diacritic = df['vowel_diacritic'].values\n",
        "n, c = np.unique(vowel_diacritic, return_counts=True)\n",
        "total_vowel_diacritic = len(n)\n",
        "\n",
        "consonant_diacritic = df['consonant_diacritic'].values\n",
        "n, c = np.unique(consonant_diacritic, return_counts=True)\n",
        "total_consonant_diacritic = len(n)"
      ]
    },
    {
      "cell_type": "code",
      "execution_count": 4,
      "id": "0a0822b8",
      "metadata": {
        "id": "0a0822b8",
        "outputId": "f61a60a4-8fd4-48c7-aba1-ec948f215472"
      },
      "outputs": [],
      "source": [
        "def simple_model():\n",
        "\n",
        "    f = 16\n",
        "    x = Input(shape=(120,120,1,))\n",
        "    init=x\n",
        "\n",
        "    conv = Conv2D(f, 3, strides=1, padding='same', activation='relu')(init)\n",
        "    conv = MaxPooling2D(2)(conv)\n",
        "\n",
        "    conv = Conv2D(f*2, 3, strides=1, padding='same', activation='relu')(conv)\n",
        "    conv = MaxPooling2D(2)(conv)\n",
        "\n",
        "    conv = Conv2D(f*4, 3, strides=1, padding='same', activation='relu')(conv)\n",
        "    conv = MaxPooling2D(2)(conv)\n",
        "\n",
        "    conv = Conv2D(f*8, 3, strides=1, padding='same', activation='relu')(conv)\n",
        "    conv = MaxPooling2D(2)(conv)\n",
        "\n",
        "\n",
        "    conv = Conv2D(f*16, 3, strides=1, padding='same', activation='relu')(conv)\n",
        "    conv = MaxPooling2D(2)(conv)\n",
        "\n",
        "    f = Flatten()(conv)\n",
        "\n",
        "    d_grapheme_root = Dense(512, activation='relu')(f)\n",
        "    d_grapheme_root = Dropout(0.5)(d_grapheme_root)\n",
        "    d_grapheme_root = Dense(256, activation='relu')(d_grapheme_root)\n",
        "\n",
        "    d_vowel_diacritic = Dense(512, activation='relu')(f)\n",
        "    d_vowel_diacritic = Dropout(0.5)(d_vowel_diacritic)\n",
        "    d_vowel_diacritic = Dense(256, activation='relu')(d_vowel_diacritic)\n",
        "\n",
        "    d_consonant_diacritic = Dense(512, activation='relu')(f)\n",
        "    d_consonant_diacritic = Dropout(0.5)(d_consonant_diacritic)\n",
        "    d_consonant_diacritic = Dense(256, activation='relu')(d_consonant_diacritic)\n",
        "\n",
        "\n",
        "    grapheme_root = Dense(total_grapheme_roots, activation='softmax', name='grapheme_root')(d_grapheme_root)\n",
        "    vowel_diacritic = Dense(total_vowel_diacritic, activation='softmax', name='vowel_diacritic')(d_vowel_diacritic)\n",
        "    consonant_diacritic = Dense(total_consonant_diacritic, activation='softmax', name='consonant_diacritic')(d_consonant_diacritic)\n",
        "\n",
        "\n",
        "    model = Model(inputs=x, outputs=[grapheme_root, vowel_diacritic, consonant_diacritic])\n",
        "\n",
        "    return model\n",
        "\n",
        "model = simple_model()"
      ]
    },
    {
      "cell_type": "code",
      "execution_count": 5,
      "id": "24d0d410",
      "metadata": {
        "id": "24d0d410"
      },
      "outputs": [],
      "source": [
        "# FOR RECONSTRUCTION PURPOSE\n",
        "df_gr = pd.read_csv('train.csv')\n",
        "df_gr = df_gr.drop_duplicates(subset=['grapheme'])\n",
        "dv = df_gr.values\n",
        "grapheme_roots = []\n",
        "_grapheme_roots = []\n",
        "\n",
        "for v in dv:\n",
        "    if v[1] != 0 and v[2] == 0 and v[3] == 0 and v[-1] not in _grapheme_roots:\n",
        "        _grapheme_roots.append(v[-1])\n",
        "        grapheme_roots.append({'numeric': v[1], 'value': v[-1]})\n",
        "\n",
        "vowel_diacritics = {}\n",
        "vowel_diacritics[0] = ''\n",
        "vowel_diacritics[1] = 'া'\n",
        "vowel_diacritics[2] = 'ি'\n",
        "vowel_diacritics[3] = 'ী'\n",
        "vowel_diacritics[4] = 'ু'\n",
        "vowel_diacritics[5] = 'ূ'\n",
        "vowel_diacritics[6] = 'ৃ'\n",
        "vowel_diacritics[7] = 'ে'\n",
        "vowel_diacritics[8] = 'ৈ'\n",
        "vowel_diacritics[9] = 'ো'\n",
        "vowel_diacritics[10] = 'ৌ'\n",
        "\n",
        "\n",
        "consonant_diacritics = {}\n",
        "consonant_diacritics[0] = ''\n",
        "consonant_diacritics[1] = 'ঁ'\n",
        "consonant_diacritics[2] = '\\u09b0\\u09cd'\n",
        "consonant_diacritics[3] = 'র্য' #//ref + ja fala\n",
        "consonant_diacritics[4] = '্য'\n",
        "consonant_diacritics[5] = '্র'\n",
        "consonant_diacritics[6] = '্র্য'\n",
        "consonant_diacritics[7] = 'র্্র'#ref + ra fala\n",
        "\n",
        "\n",
        "def get_grapheme_root(numeric):\n",
        "    for item in grapheme_roots:\n",
        "        if item['numeric'] == numeric:\n",
        "            return item['value']\n",
        "    return ''\n",
        "\n",
        "def get_vowel_diacritic(numeric):\n",
        "    global vowel_diacritics\n",
        "    return vowel_diacritics[numeric]\n",
        "\n",
        "def get_consonant_diacritic(numeric):\n",
        "    global consonant_diacritics\n",
        "    return consonant_diacritics[numeric]\n",
        "\n"
      ]
    },
    {
      "cell_type": "code",
      "execution_count": 6,
      "id": "31cb9a90",
      "metadata": {
        "id": "31cb9a90"
      },
      "outputs": [],
      "source": [
        "consonant_middle=[5,4,6]\n",
        "consonant_after=[1]\n",
        "consonant_before=[2]\n"
      ]
    },
    {
      "cell_type": "code",
      "execution_count": 7,
      "id": "6d06e5a8",
      "metadata": {
        "id": "6d06e5a8"
      },
      "outputs": [],
      "source": [
        "def get_grapheme(gr,vd,cd):\n",
        "    consonant_middle=[5,4,6]\n",
        "    consonant_after=[1]\n",
        "\n",
        "\n",
        "    if cd in consonant_middle:\n",
        "        return get_grapheme_root(gr)+get_consonant_diacritic(cd)+get_vowel_diacritic(vd)\n",
        "    elif cd==2:\n",
        "        return get_consonant_diacritic(cd)+get_grapheme_root(gr)+get_vowel_diacritic(vd)\n",
        "    elif cd==3:\n",
        "        return '\\u09b0\\u09cd'+get_grapheme_root(gr)+'্য'+get_vowel_diacritic(vd)\n",
        "    elif cd==7:\n",
        "        return '\\u09b0\\u09cd'+get_grapheme_root(gr)+'্র'+get_vowel_diacritic(vd)\n",
        "    elif cd in consonant_after:\n",
        "        return get_grapheme_root(gr)+get_vowel_diacritic(vd)+get_consonant_diacritic(cd)"
      ]
    },
    {
      "cell_type": "code",
      "execution_count": 9,
      "id": "6e159bb0",
      "metadata": {
        "id": "6e159bb0",
        "outputId": "f45f3ecb-e4ba-46a4-bc03-b9edeb0f22a2",
        "scrolled": false
      },
      "outputs": [
        {
          "data": {
            "image/png": "[encoded data removed]",
            "text/plain": [
              "<Figure size 100x100 with 1 Axes>"
            ]
          },
          "metadata": {},
          "output_type": "display_data"
        },
        {
          "name": "stdout",
          "output_type": "stream",
          "text": [
            "grapheme_root ণ্ড + constant_diacritic  + vowel_diacritic ি =  ণ্ডি\n",
            "grapheme_root ণ্ড + vowel_diacritic ি + consonant_diacritic  =  ণ্ডি\n",
            "Grapheme from CSV (Prediction) =  ণ্ডি\n"
          ]
        }
      ],
      "source": [
        "model.load_weights('test.hdf5')\n",
        "\n",
        "y_true_grapheme_root = []\n",
        "y_true_vowel_diacritic = []\n",
        "y_true_consonant_diacritic = []\n",
        "\n",
        "y_pred_grapheme_root = []\n",
        "y_pred_vowel_diacritic = []\n",
        "y_pred_consonant_diacritic = []\n",
        "\n",
        "img = tf.keras.utils.load_img('image.png', color_mode='grayscale',target_size=(120, 120))\n",
        "img = tf.keras.utils.img_to_array(img)/255.\n",
        "img = np.expand_dims(img, axis=0)\n",
        "pr = model.predict(img, verbose=0)\n",
        "\n",
        "pred_grapheme_root = np.argmax(pr[0], axis=-1)[0]\n",
        "pred_vowel_diacritic = np.argmax(pr[1], axis=-1)[0]\n",
        "pred_consonant_diacritic = np.argmax(pr[2], axis=-1)[0]\n",
        "\n",
        "\n",
        "y_pred_grapheme_root.append(pred_grapheme_root)\n",
        "y_pred_vowel_diacritic.append(pred_vowel_diacritic)\n",
        "y_pred_consonant_diacritic.append(np.argmax(pr[2], axis=-1)[0])\n",
        "\n",
        "\n",
        "plt.rcParams[\"figure.figsize\"] = (1,1)\n",
        "\n",
        "plt.imshow(img[0, :, :, :], cmap='gray')\n",
        "plt.show()\n",
        "\n",
        "pred_grapheme_root_char = get_grapheme_root(pred_grapheme_root)\n",
        "pred_vowel_diacritic_char = get_vowel_diacritic(pred_vowel_diacritic)\n",
        "pred_consonant_diacritic_char = get_consonant_diacritic(pred_consonant_diacritic)\n",
        "\n",
        "\n",
        "grapheme_pred = pred_grapheme_root_char + pred_vowel_diacritic_char + pred_consonant_diacritic_char\n",
        "\n",
        "print('grapheme_root '+str(pred_grapheme_root_char)+' + constant_diacritic '+str(pred_consonant_diacritic_char)+' + vowel_diacritic '+str(pred_vowel_diacritic_char)+' = ', grapheme_pred)\n",
        "\n",
        "grapheme_pred = pred_grapheme_root_char + pred_consonant_diacritic_char + pred_vowel_diacritic_char\n",
        "\n",
        "print('grapheme_root '+str(pred_grapheme_root_char)+' + vowel_diacritic '+str(pred_vowel_diacritic_char)+' + consonant_diacritic '+str(pred_consonant_diacritic_char)+' = ', grapheme_pred)\n",
        "\n",
        "\n",
        "grapheme_from_csv = df_gr.loc[(df['grapheme_root'] == pred_grapheme_root) & (df['vowel_diacritic'] == pred_vowel_diacritic) & (df['consonant_diacritic'] == pred_consonant_diacritic)].values[0][-1]\n",
        "\n",
        "print(\"Grapheme from CSV (Prediction) = \", grapheme_from_csv)"
      ]
    },
    {
      "cell_type": "code",
      "execution_count": null,
      "id": "dd0b18bf",
      "metadata": {
        "id": "dd0b18bf"
      },
      "outputs": [],
      "source": []
    },
    {
      "cell_type": "code",
      "execution_count": null,
      "id": "2e7cf2fe",
      "metadata": {},
      "outputs": [],
      "source": []
    }
  ],
  "metadata": {
    "colab": {
      "provenance": []
    },
    "kernelspec": {
      "display_name": "Python 3 (ipykernel)",
      "language": "python",
      "name": "python3"
    },
    "language_info": {
      "codemirror_mode": {
        "name": "ipython",
        "version": 3
      },
      "file_extension": ".py",
      "mimetype": "text/x-python",
      "name": "python",
      "nbconvert_exporter": "python",
      "pygments_lexer": "ipython3",
      "version": "3.9.17"
    }
  },
  "nbformat": 4,
  "nbformat_minor": 5
}
